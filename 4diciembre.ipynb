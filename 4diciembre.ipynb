{
  "nbformat": 4,
  "nbformat_minor": 0,
  "metadata": {
    "colab": {
      "name": "4diciembre.ipynb",
      "provenance": [],
      "collapsed_sections": [],
      "authorship_tag": "ABX9TyNPKOlPrcay9YmtAHNcXibu",
      "include_colab_link": true
    },
    "kernelspec": {
      "name": "python3",
      "display_name": "Python 3"
    }
  },
  "cells": [
    {
      "cell_type": "markdown",
      "metadata": {
        "id": "view-in-github",
        "colab_type": "text"
      },
      "source": [
        "<a href=\"https://colab.research.google.com/github/danieljobvaladezelguera/CYPDANIELJVE/blob/master/4diciembre.ipynb\" target=\"_parent\"><img src=\"https://colab.research.google.com/assets/colab-badge.svg\" alt=\"Open In Colab\"/></a>"
      ]
    },
    {
      "cell_type": "code",
      "metadata": {
        "id": "oh7pic8XkZpM"
      },
      "source": [
        "\"\"\"\n",
        "Array2D\n",
        "\"\"\"\n",
        "\n",
        "class Array2D:\n",
        "\n",
        "    def __init__(self,rows, cols, value):\n",
        "        self.__cols = cols\n",
        "        self.__rows = rows\n",
        "        self.__array=[[value for x in range(self.__cols)] for y in range(self.__rows)]\n",
        "\n",
        "    def to_string(self):\n",
        "        [print(\"---\",end=\"\") for x in range(self.__cols)]\n",
        "        print(\"\")\n",
        "        for ren in self.__array:\n",
        "            print(ren)\n",
        "        [print(\"---\",end=\"\") for x in range(self.__cols)]\n",
        "        print(\"\")\n",
        "\n",
        "    def get_num_rows(self):\n",
        "        return self.__rows\n",
        "\n",
        "    def get_num_cols(self):\n",
        "        return self.__cols\n",
        "\n",
        "    def get_item(self,row,col):\n",
        "        return self.__array[row][col]\n",
        "\n",
        "    def set_item( self , row , col , valor ):\n",
        "        self.__array[row][col]=valor\n",
        "\n",
        "    def clearing(self, valor=0):\n",
        "        for ren in range(self.__rows):\n",
        "            for col in range(self.__cols):\n",
        "                self.__array[ren][col]=valor\n",
        "\n",
        "                "
      ],
      "execution_count": 6,
      "outputs": []
    },
    {
      "cell_type": "code",
      "metadata": {
        "id": "inCHC_WYoEzN"
      },
      "source": [
        "class Stack:\n",
        "    def __init__(self):\n",
        "        self.__data = []\n",
        "        self.__size = 0\n",
        "\n",
        "    def pop(self):\n",
        "        return self.__data.pop()\n",
        "\n",
        "    def get_size(self):\n",
        "        return self.__size\n",
        "\n",
        "    def peak(self):\n",
        "        if len(self.__data) > 0:\n",
        "            return self.__data[-1]\n",
        "        else:\n",
        "            return None\n",
        "\n",
        "    def push(self,value):\n",
        "        self.__data.append(value)\n",
        "        self.__size += 1\n",
        "\n",
        "    def to_string(self):\n",
        "        print(\"-\"*6)\n",
        "        for dato in self.__data[::-1]:\n",
        "            print(f\"| {dato} |\")\n",
        "            print(\"/\" * 6)\n",
        "        print(\"\")\n"
      ],
      "execution_count": 16,
      "outputs": []
    },
    {
      "cell_type": "code",
      "metadata": {
        "id": "FVjo14rKkdiV",
        "colab": {
          "base_uri": "https://localhost:8080/",
          "height": 180
        },
        "outputId": "5294bcc4-cbb9-4f06-a3d8-32be7bd38875"
      },
      "source": [
        "class LaberintoADT:\n",
        "  def __init__(self, archivo,):\n",
        "    self.__laberinto = Array2D(0,0,0)\n",
        "    self.__camino = Stack()\n",
        "    self.__rens = 0\n",
        "    self.__cols = 0\n",
        "    self.__entrada = (0,0)\n",
        "\n",
        "\n",
        "    entrada = open(archivo,'rt')\n",
        "    datos = entrada.readlines()\n",
        "    self.__rens = int(datos.pop(0).strip())\n",
        "    self.__rens = int(datos.pop(0).strip())\n",
        "    self.__entrada = list(datos[0].strip().split(','))\n",
        "    self.__entrada[0]=int(self.__entrada[0])\n",
        "    self.__entrada[1]=int(self.__entrada[1])\n",
        "    self.__camino.push(tuple(self.__entrada[0], self.__entrada[1]))\n",
        "    \n",
        "    datos.pop(0)\n",
        "    print(self.__rens, self.__cols, self.__entrada)\n",
        "    print(datos)\n",
        "\n",
        "    self.__laberinto=Array2D(self.__rens, self.__cols,'1')\n",
        "    for renglon in range(self.__rens):\n",
        "      info_ren = datos[renglon].strip().split(',')\n",
        "      for columna in range(self.__cols):\n",
        "        self.__laberinto.set_item(renglon,columna,info_ren[columna])\n",
        "  def mostrar(self):\n",
        "    self.__laberinto.to_string()\n",
        "\n",
        "  def resolver(self):\n",
        "    actual = self.__camino.peek()\n",
        "    if (self.__laberinto.get_item( actual[0], actual[1] -1 ) == '0' and self.__laberinto.get_item(actual[0], actual[1] -1) !=='x' and self.__previa != actual[0], actual[1] -1):\n",
        "      self.__previa = actual\n",
        "      self.camino.push((actual[0], actual[1] -1))\n",
        "\n",
        "    elif (self.__laberinto.get_item( actual[0] -1, actual[1] ) == '0' and self.__laberinto.get_item(actual[0] -1, actual[1] ) !=='x' and self.__previa != actual[0] -1, actual[1] ):\n",
        "      self.__previa = actual\n",
        "      self.__camino.push((actual[0] -1, actual[1] ))\n",
        "\n",
        "    elif 1==2:\n",
        "      pass\n",
        "    elif 1== 2:\n",
        "      pass\n",
        "    else:\n",
        "      self.laberinto.set_item(actual[0], actual[1], 'X')\n",
        "      self.__camino.pop()\n",
        "\n",
        "      "
      ],
      "execution_count": 17,
      "outputs": [
        {
          "output_type": "error",
          "ename": "SyntaxError",
          "evalue": "ignored",
          "traceback": [
            "\u001b[0;36m  File \u001b[0;32m\"<ipython-input-17-653c7ffc5f09>\"\u001b[0;36m, line \u001b[0;32m33\u001b[0m\n\u001b[0;31m    if (self.__laberinto.get_item( actual[0], actual[1] -1 ) == '0' and self.__laberinto.get_item(actual[0], actual[1] -1) !=='x' and self.__previa != actual[0], actual[1] -1):\u001b[0m\n\u001b[0m                                                                                                                             ^\u001b[0m\n\u001b[0;31mSyntaxError\u001b[0m\u001b[0;31m:\u001b[0m invalid syntax\n"
          ]
        }
      ]
    },
    {
      "cell_type": "code",
      "metadata": {
        "colab": {
          "base_uri": "https://localhost:8080/",
          "height": 214
        },
        "id": "xrDZoWsrnZow",
        "outputId": "7eb9ed91-6310-477e-c84d-e53170ce7e98"
      },
      "source": [
        "#main \n",
        "laberinto = LaberintoADT(\"Entrada.txt\")\n",
        "laberinto.mostrar()\n",
        "laberinto.imprimir_camino()\n"
      ],
      "execution_count": 18,
      "outputs": [
        {
          "output_type": "error",
          "ename": "NameError",
          "evalue": "ignored",
          "traceback": [
            "\u001b[0;31m---------------------------------------------------------------------------\u001b[0m",
            "\u001b[0;31mNameError\u001b[0m                                 Traceback (most recent call last)",
            "\u001b[0;32m<ipython-input-18-2417d2ac6bc3>\u001b[0m in \u001b[0;36m<module>\u001b[0;34m()\u001b[0m\n\u001b[1;32m      1\u001b[0m \u001b[0;31m#main\u001b[0m\u001b[0;34m\u001b[0m\u001b[0;34m\u001b[0m\u001b[0;34m\u001b[0m\u001b[0m\n\u001b[0;32m----> 2\u001b[0;31m \u001b[0mlaberinto\u001b[0m \u001b[0;34m=\u001b[0m \u001b[0mLaberintoADT\u001b[0m\u001b[0;34m(\u001b[0m\u001b[0;34m\"Entrada.txt\"\u001b[0m\u001b[0;34m)\u001b[0m\u001b[0;34m\u001b[0m\u001b[0;34m\u001b[0m\u001b[0m\n\u001b[0m\u001b[1;32m      3\u001b[0m \u001b[0mlaberinto\u001b[0m\u001b[0;34m.\u001b[0m\u001b[0mmostrar\u001b[0m\u001b[0;34m(\u001b[0m\u001b[0;34m)\u001b[0m\u001b[0;34m\u001b[0m\u001b[0;34m\u001b[0m\u001b[0m\n\u001b[1;32m      4\u001b[0m \u001b[0mlaberinto\u001b[0m\u001b[0;34m.\u001b[0m\u001b[0mimprimir_camino\u001b[0m\u001b[0;34m(\u001b[0m\u001b[0;34m)\u001b[0m\u001b[0;34m\u001b[0m\u001b[0;34m\u001b[0m\u001b[0m\n",
            "\u001b[0;31mNameError\u001b[0m: name 'LaberintoADT' is not defined"
          ]
        }
      ]
    }
  ]
}